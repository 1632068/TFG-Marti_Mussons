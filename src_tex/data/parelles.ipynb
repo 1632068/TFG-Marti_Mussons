{
 "cells": [
  {
   "cell_type": "code",
   "execution_count": 2,
   "id": "a19fee53",
   "metadata": {},
   "outputs": [],
   "source": [
    "import os\n",
    "import re\n",
    "import pandas as pd\n",
    "\n",
    "# Carpeta amb els arxius .tex\n",
    "folder_path = \"../data/output_tex\"\n",
    "\n",
    "# Patrons per capturar diferents tipus de blocs\n",
    "patterns = {\n",
    "    \"theorem\": r\"\\\\begin\\{theorem\\}(.*?)\\\\end\\{theorem\\}\",\n",
    "    \"definition\": r\"\\\\begin\\{definition\\}(.*?)\\\\end\\{definition\\}\",\n",
    "    \"proof\": r\"\\\\begin\\{proof\\}(.*?)\\\\end\\{proof\\}\",\n",
    "    \"proposition\": r\"\\\\begin\\{proposition\\}(.*?)\\\\end\\{proposition\\}\",\n",
    "    \"lemma\": r\"\\\\begin\\{lemma\\}(.*?)\\\\end\\{lemma\\}\",\n",
    "    \"example\": r\"\\\\begin\\{example\\}(.*?)\\\\end\\{example\\}\",\n",
    "}\n",
    "\n",
    "# Llista per guardar els blocs extrets\n",
    "extracted_blocks = []\n",
    "\n",
    "# Iterar per cada arxiu .tex de la carpeta\n",
    "for filename in os.listdir(folder_path):\n",
    "    if filename.endswith(\".tex\"):\n",
    "        filepath = os.path.join(folder_path, filename)\n",
    "        with open(filepath, \"r\", encoding=\"utf-8\") as f:\n",
    "            latex_text = f.read()\n",
    "\n",
    "        article_id = os.path.splitext(filename)[0]  # treure l'extensió .tex\n",
    "\n",
    "        for label, pattern in patterns.items():\n",
    "            matches = re.findall(pattern, latex_text, re.DOTALL)\n",
    "            for match in matches:\n",
    "                clean_text = match.strip()\n",
    "                if len(clean_text) > 20:  # ignorar fragments trivials\n",
    "                    extracted_blocks.append((label, clean_text, article_id))\n",
    "\n",
    "# Crear el DataFrame amb la nova columna\n",
    "df_blocks = pd.DataFrame(extracted_blocks, columns=[\"type\", \"content\", \"article_id\"])\n"
   ]
  },
  {
   "cell_type": "code",
   "execution_count": 3,
   "id": "3f58cf0d",
   "metadata": {},
   "outputs": [
    {
     "name": "stdout",
     "output_type": "stream",
     "text": [
      "(1763, 3)\n"
     ]
    },
    {
     "data": {
      "text/html": [
       "<div>\n",
       "<style scoped>\n",
       "    .dataframe tbody tr th:only-of-type {\n",
       "        vertical-align: middle;\n",
       "    }\n",
       "\n",
       "    .dataframe tbody tr th {\n",
       "        vertical-align: top;\n",
       "    }\n",
       "\n",
       "    .dataframe thead th {\n",
       "        text-align: right;\n",
       "    }\n",
       "</style>\n",
       "<table border=\"1\" class=\"dataframe\">\n",
       "  <thead>\n",
       "    <tr style=\"text-align: right;\">\n",
       "      <th></th>\n",
       "      <th>type</th>\n",
       "      <th>content</th>\n",
       "      <th>article_id</th>\n",
       "    </tr>\n",
       "  </thead>\n",
       "  <tbody>\n",
       "    <tr>\n",
       "      <th>0</th>\n",
       "      <td>theorem</td>\n",
       "      <td>\\label{thm_lzero}\\nThe approximate peak time f...</td>\n",
       "      <td>2502.01037</td>\n",
       "    </tr>\n",
       "    <tr>\n",
       "      <th>1</th>\n",
       "      <td>theorem</td>\n",
       "      <td>\\label{thm_linfty}\\nThe approximate peak time ...</td>\n",
       "      <td>2502.01037</td>\n",
       "    </tr>\n",
       "    <tr>\n",
       "      <th>2</th>\n",
       "      <td>definition</td>\n",
       "      <td>\\label{def_lzero}\\nWe define approximate peak ...</td>\n",
       "      <td>2502.01037</td>\n",
       "    </tr>\n",
       "    <tr>\n",
       "      <th>3</th>\n",
       "      <td>definition</td>\n",
       "      <td>\\label{def_linfty}\\nAssume \\eqref{ellcondition...</td>\n",
       "      <td>2502.01037</td>\n",
       "    </tr>\n",
       "    <tr>\n",
       "      <th>4</th>\n",
       "      <td>proof</td>\n",
       "      <td>We first study the asymptotic behavior of the ...</td>\n",
       "      <td>2502.01037</td>\n",
       "    </tr>\n",
       "  </tbody>\n",
       "</table>\n",
       "</div>"
      ],
      "text/plain": [
       "         type                                            content  article_id\n",
       "0     theorem  \\label{thm_lzero}\\nThe approximate peak time f...  2502.01037\n",
       "1     theorem  \\label{thm_linfty}\\nThe approximate peak time ...  2502.01037\n",
       "2  definition  \\label{def_lzero}\\nWe define approximate peak ...  2502.01037\n",
       "3  definition  \\label{def_linfty}\\nAssume \\eqref{ellcondition...  2502.01037\n",
       "4       proof  We first study the asymptotic behavior of the ...  2502.01037"
      ]
     },
     "execution_count": 3,
     "metadata": {},
     "output_type": "execute_result"
    }
   ],
   "source": [
    "print(df_blocks.shape)\n",
    "df_blocks.head()"
   ]
  },
  {
   "cell_type": "code",
   "execution_count": 4,
   "id": "87b50410",
   "metadata": {},
   "outputs": [],
   "source": [
    "import pandas as pd\n",
    "import re\n",
    "\n",
    "def clean_latex(text):\n",
    "    # Eliminar comandos LaTeX irrelevantes\n",
    "    text = re.sub(r'\\\\label\\{.*?\\}', '', text)\n",
    "    text = re.sub(r'\\\\begin\\{.*?\\}', '', text)\n",
    "    text = re.sub(r'\\\\end\\{.*?\\}', '', text)\n",
    "    text = text.replace('\\n', ' ')  # Unificar texto multilinea\n",
    "    return text.strip()\n",
    "\n",
    "#df_sample[\"clean_content\"] = df_sample[\"content\"].apply(clean_latex)\n"
   ]
  },
  {
   "cell_type": "code",
   "execution_count": 5,
   "id": "d70be97e",
   "metadata": {},
   "outputs": [],
   "source": [
    "from itertools import combinations\n",
    "import pandas as pd\n",
    "\n",
    "def generar_parejas(df,column):\n",
    "    parejas = []\n",
    "\n",
    "    # Agrupar per article i tipus\n",
    "    for (article_id, tipo), sub_df in df.groupby([\"article_id\", \"type\"]):\n",
    "        for a, b in combinations(sub_df[column], 2):\n",
    "            parejas.append((a, b, 1))\n",
    "\n",
    "    return pd.DataFrame(parejas, columns=[\"text_a\", \"text_b\", \"label\"])\n"
   ]
  },
  {
   "cell_type": "code",
   "execution_count": 6,
   "id": "42e5607e",
   "metadata": {},
   "outputs": [
    {
     "data": {
      "text/html": [
       "<div>\n",
       "<style scoped>\n",
       "    .dataframe tbody tr th:only-of-type {\n",
       "        vertical-align: middle;\n",
       "    }\n",
       "\n",
       "    .dataframe tbody tr th {\n",
       "        vertical-align: top;\n",
       "    }\n",
       "\n",
       "    .dataframe thead th {\n",
       "        text-align: right;\n",
       "    }\n",
       "</style>\n",
       "<table border=\"1\" class=\"dataframe\">\n",
       "  <thead>\n",
       "    <tr style=\"text-align: right;\">\n",
       "      <th></th>\n",
       "      <th>type</th>\n",
       "      <th>content</th>\n",
       "      <th>article_id</th>\n",
       "    </tr>\n",
       "  </thead>\n",
       "  <tbody>\n",
       "    <tr>\n",
       "      <th>0</th>\n",
       "      <td>theorem</td>\n",
       "      <td>The approximate peak time for a small fluoresc...</td>\n",
       "      <td>2502.01037</td>\n",
       "    </tr>\n",
       "    <tr>\n",
       "      <th>1</th>\n",
       "      <td>theorem</td>\n",
       "      <td>The approximate peak time for a large fluoresc...</td>\n",
       "      <td>2502.01037</td>\n",
       "    </tr>\n",
       "    <tr>\n",
       "      <th>2</th>\n",
       "      <td>definition</td>\n",
       "      <td>We define approximate peak time $t^{p}_0$ by t...</td>\n",
       "      <td>2502.01037</td>\n",
       "    </tr>\n",
       "    <tr>\n",
       "      <th>3</th>\n",
       "      <td>definition</td>\n",
       "      <td>Assume \\eqref{ellcondition1} and \\eqref{ellcon...</td>\n",
       "      <td>2502.01037</td>\n",
       "    </tr>\n",
       "    <tr>\n",
       "      <th>4</th>\n",
       "      <td>proof</td>\n",
       "      <td>We first study the asymptotic behavior of the ...</td>\n",
       "      <td>2502.01037</td>\n",
       "    </tr>\n",
       "  </tbody>\n",
       "</table>\n",
       "</div>"
      ],
      "text/plain": [
       "         type                                            content  article_id\n",
       "0     theorem  The approximate peak time for a small fluoresc...  2502.01037\n",
       "1     theorem  The approximate peak time for a large fluoresc...  2502.01037\n",
       "2  definition  We define approximate peak time $t^{p}_0$ by t...  2502.01037\n",
       "3  definition  Assume \\eqref{ellcondition1} and \\eqref{ellcon...  2502.01037\n",
       "4       proof  We first study the asymptotic behavior of the ...  2502.01037"
      ]
     },
     "execution_count": 6,
     "metadata": {},
     "output_type": "execute_result"
    }
   ],
   "source": [
    "df_blocks[\"content\"] = df_blocks[\"content\"].apply(clean_latex)\n",
    "df_blocks.head()"
   ]
  },
  {
   "cell_type": "code",
   "execution_count": 7,
   "id": "e0cfc63d",
   "metadata": {},
   "outputs": [],
   "source": [
    "df_blocks.to_csv(\"df_blocks.csv\", index=False)\n"
   ]
  },
  {
   "cell_type": "code",
   "execution_count": 28,
   "id": "b5609f5a",
   "metadata": {},
   "outputs": [
    {
     "name": "stdout",
     "output_type": "stream",
     "text": [
      "(11091, 3)\n"
     ]
    }
   ],
   "source": [
    "parelles_positives =  generar_parejas(df_blocks, column = \"content\")\n",
    "print(parelles_positives.shape)\n"
   ]
  },
  {
   "cell_type": "code",
   "execution_count": 29,
   "id": "44765851",
   "metadata": {},
   "outputs": [],
   "source": [
    "from itertools import product\n",
    "import pandas as pd\n",
    "import random\n",
    "\n",
    "def generar_parejas_negativas_fortes(df, num_positives, column, ratio=2, seed=42):\n",
    "    random.seed(seed)\n",
    "    negatives = []\n",
    "\n",
    "    # Generar totes les parelles negatives candidates\n",
    "    for a1 in df[\"article_id\"].unique():\n",
    "        for a2 in df[\"article_id\"].unique():\n",
    "            if a1 == a2:\n",
    "                continue\n",
    "            df1 = df[df[\"article_id\"] == a1]\n",
    "            df2 = df[df[\"article_id\"] == a2]\n",
    "\n",
    "            for t1 in df1[\"type\"].unique():\n",
    "                for t2 in df2[\"type\"].unique():\n",
    "                    if t1 == t2:\n",
    "                        continue\n",
    "                    sub1 = df1[df1[\"type\"] == t1]\n",
    "                    sub2 = df2[df2[\"type\"] == t2]\n",
    "                    for x, y in product(sub1[column], sub2[column]):\n",
    "                        negatives.append((x, y, 0))\n",
    "\n",
    "    # Barrejar i reduir segons la proporció\n",
    "    random.shuffle(negatives)\n",
    "    num_negatives = min(len(negatives), num_positives * ratio)\n",
    "    sampled_negatives = negatives[:num_negatives]\n",
    "\n",
    "    return pd.DataFrame(sampled_negatives, columns=[\"text_a\", \"text_b\", \"label\"])\n"
   ]
  },
  {
   "cell_type": "code",
   "execution_count": 30,
   "id": "fd1394bb",
   "metadata": {},
   "outputs": [
    {
     "name": "stdout",
     "output_type": "stream",
     "text": [
      "(22182, 3)\n"
     ]
    }
   ],
   "source": [
    "parelles_negatives = generar_parejas_negativas_fortes(df_blocks, num_positives=len(parelles_positives), ratio=2, column = \"content\")  # negatives fortes: tipus diferent i article diferent\n",
    "print(parelles_negatives.shape)"
   ]
  },
  {
   "cell_type": "code",
   "execution_count": 31,
   "id": "c5ff9af8",
   "metadata": {},
   "outputs": [
    {
     "name": "stdout",
     "output_type": "stream",
     "text": [
      "(33273, 3)\n"
     ]
    }
   ],
   "source": [
    "df_parelles = pd.concat([parelles_positives, parelles_negatives], ignore_index=True)\n",
    "print(df_parelles.shape)"
   ]
  },
  {
   "cell_type": "code",
   "execution_count": null,
   "id": "26685c70",
   "metadata": {},
   "outputs": [],
   "source": [
    "df_parelles.to_csv(\"parelles.csv\")"
   ]
  },
  {
   "cell_type": "code",
   "execution_count": 33,
   "id": "4bebd9e9",
   "metadata": {},
   "outputs": [
    {
     "data": {
      "text/html": [
       "<div>\n",
       "<style scoped>\n",
       "    .dataframe tbody tr th:only-of-type {\n",
       "        vertical-align: middle;\n",
       "    }\n",
       "\n",
       "    .dataframe tbody tr th {\n",
       "        vertical-align: top;\n",
       "    }\n",
       "\n",
       "    .dataframe thead th {\n",
       "        text-align: right;\n",
       "    }\n",
       "</style>\n",
       "<table border=\"1\" class=\"dataframe\">\n",
       "  <thead>\n",
       "    <tr style=\"text-align: right;\">\n",
       "      <th></th>\n",
       "      <th>type</th>\n",
       "      <th>content</th>\n",
       "      <th>article_id</th>\n",
       "    </tr>\n",
       "  </thead>\n",
       "  <tbody>\n",
       "    <tr>\n",
       "      <th>0</th>\n",
       "      <td>theorem</td>\n",
       "      <td>The approximate peak time for a small fluoresc...</td>\n",
       "      <td>2502.01037</td>\n",
       "    </tr>\n",
       "    <tr>\n",
       "      <th>1</th>\n",
       "      <td>theorem</td>\n",
       "      <td>The approximate peak time for a large fluoresc...</td>\n",
       "      <td>2502.01037</td>\n",
       "    </tr>\n",
       "    <tr>\n",
       "      <th>2</th>\n",
       "      <td>definition</td>\n",
       "      <td>We define approximate peak time $t^{p}_0$ by t...</td>\n",
       "      <td>2502.01037</td>\n",
       "    </tr>\n",
       "    <tr>\n",
       "      <th>3</th>\n",
       "      <td>definition</td>\n",
       "      <td>Assume \\eqref{ellcondition1} and \\eqref{ellcon...</td>\n",
       "      <td>2502.01037</td>\n",
       "    </tr>\n",
       "    <tr>\n",
       "      <th>4</th>\n",
       "      <td>proof</td>\n",
       "      <td>We first study the asymptotic behavior of the ...</td>\n",
       "      <td>2502.01037</td>\n",
       "    </tr>\n",
       "  </tbody>\n",
       "</table>\n",
       "</div>"
      ],
      "text/plain": [
       "         type                                            content  article_id\n",
       "0     theorem  The approximate peak time for a small fluoresc...  2502.01037\n",
       "1     theorem  The approximate peak time for a large fluoresc...  2502.01037\n",
       "2  definition  We define approximate peak time $t^{p}_0$ by t...  2502.01037\n",
       "3  definition  Assume \\eqref{ellcondition1} and \\eqref{ellcon...  2502.01037\n",
       "4       proof  We first study the asymptotic behavior of the ...  2502.01037"
      ]
     },
     "execution_count": 33,
     "metadata": {},
     "output_type": "execute_result"
    }
   ],
   "source": [
    "df_blocks.head()"
   ]
  }
 ],
 "metadata": {
  "kernelspec": {
   "display_name": ".venv",
   "language": "python",
   "name": "python3"
  },
  "language_info": {
   "codemirror_mode": {
    "name": "ipython",
    "version": 3
   },
   "file_extension": ".py",
   "mimetype": "text/x-python",
   "name": "python",
   "nbconvert_exporter": "python",
   "pygments_lexer": "ipython3",
   "version": "3.12.0"
  }
 },
 "nbformat": 4,
 "nbformat_minor": 5
}
